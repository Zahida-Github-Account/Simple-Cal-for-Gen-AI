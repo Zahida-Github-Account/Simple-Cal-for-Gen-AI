{
  "cells": [
    {
      "cell_type": "markdown",
      "metadata": {
        "id": "view-in-github",
        "colab_type": "text"
      },
      "source": [
        "<a href=\"https://colab.research.google.com/github/Zahida-Github-Account/Simple-Cal-for-Gen-AI/blob/main/Welcome_To_Colab.ipynb\" target=\"_parent\"><img src=\"https://colab.research.google.com/assets/colab-badge.svg\" alt=\"Open In Colab\"/></a>"
      ]
    },
    {
      "cell_type": "code",
      "source": [
        "import streamlit as st\n",
        "\n",
        "# Title of the app\n",
        "st.title(\"Simple Calculator\")\n",
        "\n",
        "# Input fields for the two numbers\n",
        "num1 = st.number_input(\"Enter first number\", value=0.0, step=1.0)\n",
        "num2 = st.number_input(\"Enter second number\", value=0.0, step=1.0)\n",
        "\n",
        "# Dropdown to select the operation\n",
        "operation = st.selectbox(\"Choose operation\", (\"Add\", \"Subtract\", \"Multiply\", \"Divide\"))\n",
        "\n",
        "# Function to perform the calculation\n",
        "def calculate(num1, num2, operation):\n",
        "    if operation == \"Add\":\n",
        "        return num1 + num2\n",
        "    elif operation == \"Subtract\":\n",
        "        return num1 - num2\n",
        "    elif operation == \"Multiply\":\n",
        "        return num1 * num2\n",
        "    elif operation == \"Divide\":\n",
        "        if num2 != 0:\n",
        "            return num1 / num2\n",
        "        else:\n",
        "            return \"Error: Division by zero\"\n",
        "\n",
        "# Perform the calculation when the button is clicked\n",
        "if st.button(\"Calculate\"):\n",
        "    result = calculate(num1, num2, operation)\n",
        "    st.write(f\"Result: {result}\")\n"
      ],
      "metadata": {
        "id": "10MFSmLsRhIY"
      },
      "execution_count": null,
      "outputs": []
    }
  ],
  "metadata": {
    "colab": {
      "name": "Welcome To Colab",
      "toc_visible": true,
      "provenance": [],
      "include_colab_link": true
    },
    "kernelspec": {
      "display_name": "Python 3",
      "name": "python3"
    }
  },
  "nbformat": 4,
  "nbformat_minor": 0
}