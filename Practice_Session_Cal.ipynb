{
  "nbformat": 4,
  "nbformat_minor": 0,
  "metadata": {
    "colab": {
      "provenance": [],
      "authorship_tag": "ABX9TyODcOflsk6ql07Y2K992ZHi",
      "include_colab_link": true
    },
    "kernelspec": {
      "name": "python3",
      "display_name": "Python 3"
    },
    "language_info": {
      "name": "python"
    }
  },
  "cells": [
    {
      "cell_type": "markdown",
      "metadata": {
        "id": "view-in-github",
        "colab_type": "text"
      },
      "source": [
        "<a href=\"https://colab.research.google.com/github/Zahida-Github-Account/Simple-Cal-for-Gen-AI/blob/main/Practice_Session_Cal.ipynb\" target=\"_parent\"><img src=\"https://colab.research.google.com/assets/colab-badge.svg\" alt=\"Open In Colab\"/></a>"
      ]
    },
    {
      "cell_type": "code",
      "source": [
        "#import streamlit as st\n",
        "\n",
        "# Functions for the calculator\n",
        "def add(x, y):\n",
        "    return x + y\n",
        "\n",
        "def subtract(x, y):\n",
        "    return x - y\n",
        "\n",
        "def multiply(x, y):\n",
        "    return x * y\n",
        "\n",
        "def divide(x, y):\n",
        "    if y != 0:\n",
        "        return x / y\n",
        "    else:\n",
        "        return \"Error: Division by zero is not allowed.\"\n",
        "\n",
        "# Streamlit app interface\n",
        "def calculator_app():\n",
        "    st.title(\"Simple Calculator\")\n",
        "    st.write(\"Select an operation and input two numbers.\")\n",
        "\n",
        "    # Choose an operation\n",
        "    operation = st.selectbox(\"Choose operation\", [\"Add\", \"Subtract\", \"Multiply\", \"Divide\"])\n",
        "\n",
        "    # Input numbers\n",
        "    num1 = st.number_input(\"Enter first number\", step=1.0, format=\"%.2f\")\n",
        "    num2 = st.number_input(\"Enter second number\", step=1.0, format=\"%.2f\")\n",
        "\n",
        "    # Perform the operation based on user selection\n",
        "    if st.button(\"Calculate\"):\n",
        "        if operation == \"Add\":\n",
        "            result = add(num1, num2)\n",
        "        elif operation == \"Subtract\":\n",
        "            result = subtract(num1, num2)\n",
        "        elif operation == \"Multiply\":\n",
        "            result = multiply(num1, num2)\n",
        "        elif operation == \"Divide\":\n",
        "            result = divide(num1, num2)\n",
        "\n",
        "        # Display the result\n",
        "        st.success(f\"The result is: {result}\")\n",
        "\n",
        "if __name__ == \"__main__\":\n",
        "    calculator_app()\n",
        " Simple Calculator\n",
        "\n",
        "def add(x, y):\n",
        "    return x + y\n",
        "\n",
        "def subtract(x, y):\n",
        "    return x - y\n",
        "\n",
        "def multiply(x, y):\n",
        "    return x * y\n",
        "\n",
        "def divide(x, y):\n",
        "    if y != 0:\n",
        "        return x / y\n",
        "    else:\n",
        "        return \"Error: Division by zero is not allowed.\"\n",
        "\n",
        "def calculator():\n",
        "    print(\"Select operation:\")\n",
        "    print(\"1. Add\")\n",
        "    print(\"2. Subtract\")\n",
        "    print(\"3. Multiply\")\n",
        "    print(\"4. Divide\")\n",
        "\n",
        "    while True:\n",
        "        # Take input from the user\n",
        "        choice = input(\"Enter choice(1/2/3/4): \")\n",
        "\n",
        "        # Check if the choice is valid\n",
        "        if choice in ['1', '2', '3', '4']:\n",
        "            try:\n",
        "                num1 = float(input(\"Enter first number: \"))\n",
        "                num2 = float(input(\"Enter second number: \"))\n",
        "\n",
        "                if choice == '1':\n",
        "                    print(f\"The result is: {add(num1, num2)}\")\n",
        "\n",
        "                elif choice == '2':\n",
        "                    print(f\"The result is: {subtract(num1, num2)}\")\n",
        "\n",
        "                elif choice == '3':\n",
        "                    print(f\"The result is: {multiply(num1, num2)}\")\n",
        "\n",
        "                elif choice == '4':\n",
        "                    print(f\"The result is: {divide(num1, num2)}\")\n",
        "\n",
        "\n",
        "        else:\n",
        "            print(\"Invalid input\")\n",
        "\n",
        "        # Call the calculator function\n",
        "\n",
        "\n",
        "calculator()\n"
      ],
      "metadata": {
        "colab": {
          "base_uri": "https://localhost:8080/"
        },
        "id": "E36c4lwPAcNG",
        "outputId": "4bed71f3-8efd-4884-cbac-78caacfb3272"
      },
      "execution_count": 2,
      "outputs": [
        {
          "name": "stdout",
          "output_type": "stream",
          "text": [
            "Select operation:\n",
            "1. Add\n",
            "2. Subtract\n",
            "3. Multiply\n",
            "4. Divide\n",
            "Enter choice(1/2/3/4): 3\n",
            "Enter first number: 60\n",
            "Enter second number: 100\n",
            "The result is: 6000.0\n",
            "Do you want to perform another calculation? (yes/no): no\n"
          ]
        }
      ]
    }
  ]
}